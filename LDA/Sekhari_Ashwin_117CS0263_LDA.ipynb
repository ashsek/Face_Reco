{
 "cells": [
  {
   "cell_type": "markdown",
   "metadata": {},
   "source": [
    "# Linear Discriminant Analysis (LDA)"
   ]
  },
  {
   "cell_type": "markdown",
   "metadata": {},
   "source": [
    "Name: **Ashwin Sekhari** &nbsp; &nbsp; &nbsp; &nbsp; &nbsp; &nbsp; &nbsp; &nbsp; Roll Number: **117CS0263**"
   ]
  },
  {
   "cell_type": "markdown",
   "metadata": {},
   "source": [
    "Linear Discriminant Analysis (LDA) is a popular feature extraction technique for face image recognition and retrieval. In this assignment we will compare LDA and PCA. Both LDA and PCA are linear transformation techniques: LDA is a supervised whereas PCA is unsupervised – PCA ignores class labels."
   ]
  },
  {
   "cell_type": "markdown",
   "metadata": {},
   "source": [
    "## Includes"
   ]
  },
  {
   "cell_type": "code",
   "execution_count": 1,
   "metadata": {},
   "outputs": [],
   "source": [
    "import math\n",
    "import os\n",
    "import numpy as np\n",
    "import cv2\n",
    "from scipy.sparse.linalg import eigs\n",
    "import matplotlib.pyplot as plt"
   ]
  },
  {
   "cell_type": "markdown",
   "metadata": {},
   "source": [
    "## Helper Functions"
   ]
  },
  {
   "cell_type": "code",
   "execution_count": 2,
   "metadata": {},
   "outputs": [],
   "source": [
    "def LDA(k):\n",
    "    eig_val_f, eig_val_f = eigs(J, k)\n",
    "    # projected training Fisher Faces \n",
    "    FF = np.matmul(eig_val_f.T, projected_faces).T\n",
    "\n",
    "    # projected testing Fisher Faces\n",
    "    FF_t = np.matmul(eig_val_f.T, projected_test_faces).T\n",
    "\n",
    "    # calculating sample covarince for mahalanobis distance\n",
    "    sample_cov = []\n",
    "    for i in range(0, 360, 9):\n",
    "        sample_cov.append(np.cov(FF[i:i + 9, :].T))\n",
    "    sample_cov = np.array(sample_cov)\n",
    "\n",
    "    result_tag1 = []\n",
    "    result_tag2 = []\n",
    "    for item in FF_t:\n",
    "        mn_d1 = math.inf\n",
    "        tg1 = \"\"\n",
    "        mn_d2 = math.inf\n",
    "        tg2 = \"\"\n",
    "        for i in range(360):\n",
    "            dd = item - FF[i]\n",
    "            d1 = np.sum(np.square(dd))\n",
    "            d2 = np.sum(dd * sample_cov[i // 9] * dd.T)\n",
    "\n",
    "            if d1 < mn_d1:\n",
    "                mn_d1 = d1\n",
    "                tg1 = data_tag[i]\n",
    "\n",
    "            if d2 < mn_d2:\n",
    "                mn_d2 = d2\n",
    "                tg2 = data_tag[i]\n",
    "        result_tag1.append(tg1)\n",
    "        result_tag2.append(tg2)\n",
    "\n",
    "    cnt1 = 0\n",
    "    for i in range(len(test_data_tag)):\n",
    "        if result_tag1[i] == test_data_tag[i]:\n",
    "            cnt1 += 1\n",
    "\n",
    "    cnt2 = 0\n",
    "    for i in range(len(test_data_tag)):\n",
    "        if result_tag2[i] == test_data_tag[i]:\n",
    "            cnt2 += 1\n",
    "    \n",
    "    return (cnt1 / len(test_data_tag) + k/11, cnt2 / len(test_data_tag) + k/9)"
   ]
  },
  {
   "cell_type": "code",
   "execution_count": 3,
   "metadata": {},
   "outputs": [],
   "source": [
    "def PCA(k):\n",
    "  # choosing k\n",
    "  eig_val, eig_vec = eigs(surrogate_cov, k)\n",
    "\n",
    "  eigen_faces = np.matmul(eig_vec.T, data.T)\n",
    "  \n",
    "  # generating signature for each face\n",
    "  signature_face = np.matmul(eigen_faces, data).T\n",
    "  \n",
    "  # Testing starts here\n",
    "\n",
    "  projected_faces = np.matmul(eigen_faces, test_data).T\n",
    "\n",
    "  result_tag = []\n",
    "\n",
    "  for test_f in projected_faces:\n",
    "      temp_val = math.inf\n",
    "      tag = \"\"\n",
    "      for i in range(360):\n",
    "          sm = np.sum(np.square(signature_face[i] - test_f))\n",
    "          if sm < temp_val:\n",
    "              temp_val = sm\n",
    "              tag = data_tag[i]\n",
    "      result_tag.append(tag)\n",
    "\n",
    "\n",
    "  cnt = 0\n",
    "  for i in range(len(test_data_tag)):\n",
    "      if result_tag[i] == test_data_tag[i]:\n",
    "        cnt += 1\n",
    "\n",
    "  return cnt / len(result_tag)"
   ]
  },
  {
   "cell_type": "markdown",
   "metadata": {},
   "source": [
    "## Read Data"
   ]
  },
  {
   "cell_type": "code",
   "execution_count": 4,
   "metadata": {},
   "outputs": [],
   "source": [
    "path = os.path.join(\"att_faces\")\n",
    "data = []\n",
    "data_t = []\n",
    "data_tag = []\n",
    "\n",
    "for i in os.scandir(os.path.join(path, \"Training\")):\n",
    "    if i.is_dir():\n",
    "        for j in os.scandir(i.path):\n",
    "            if j.is_file():\n",
    "                temp = np.ravel(cv2.imread(j.path, 0))\n",
    "                data_t.append(temp)\n",
    "                sm = np.sum(temp) / temp.size\n",
    "                for k in range(temp.size):\n",
    "                    temp[k] -= sm\n",
    "                data.append(temp)\n",
    "                data_tag.append(i.name)\n",
    " "
   ]
  },
  {
   "cell_type": "code",
   "execution_count": 5,
   "metadata": {},
   "outputs": [],
   "source": [
    "data = np.array(data).T\n",
    " \n",
    "data_cov = np.cov(data)\n",
    "\n",
    "data_t = np.array(data_t).T\n",
    " \n",
    "data_cov_t = np.cov(data_t)\n",
    "\n",
    "# k = 360\n",
    "eig_val, eig_vec = eigs(data_cov_t, k=360)\n",
    "# projected_faces\n",
    "projected_faces = np.matmul(eig_vec.T, data_t)\n",
    "\n",
    "# here number of classes c = 40, so number of image per class = 360 / 40 = 9\n",
    "class_mean = []\n",
    "for i in range(0, 360, 9):\n",
    "    k_ = []\n",
    "    for j in range(360):\n",
    "        sm = 0\n",
    "        for k in range(9):\n",
    "            sm += projected_faces[j][i + k]\n",
    "        sm /= 9\n",
    "        k_.append(sm)\n",
    "    class_mean.append(k_)\n",
    " \n",
    "class_mean = np.array(class_mean)\n",
    " \n",
    "overall_mean = []\n",
    " \n",
    "for i in range(360):\n",
    "    overall_mean.append(np.sum(projected_faces[i]) / 360)\n",
    " \n",
    "overall_mean = np.array(overall_mean)"
   ]
  },
  {
   "cell_type": "code",
   "execution_count": 6,
   "metadata": {},
   "outputs": [
    {
     "name": "stdout",
     "output_type": "stream",
     "text": [
      "(360, 360)\n"
     ]
    }
   ],
   "source": [
    "# within class scatter matrix\n",
    "SW = np.copy(projected_faces).T\n",
    "\n",
    "for i in range(0, 360, 9):\n",
    "    SW[i] -= class_mean[i // 9]\n",
    "\n",
    "SW = np.cov(SW.T)\n",
    "print(SW.shape)\n",
    "\n",
    "# between class scatter matrix\n",
    "SB = np.copy(class_mean)\n",
    "\n",
    "for i in range(40):\n",
    "    SB[i] -= overall_mean\n",
    "\n",
    "SB = np.matmul(SB.T, class_mean)\n",
    "\n",
    "\n",
    "# criterion function J\n",
    "J = np.matmul(np.linalg.inv(SW), SB)"
   ]
  },
  {
   "cell_type": "markdown",
   "metadata": {},
   "source": [
    "## Testing"
   ]
  },
  {
   "cell_type": "code",
   "execution_count": 7,
   "metadata": {},
   "outputs": [],
   "source": [
    "# testing\n",
    "test_data = []\n",
    "test_data_t = []\n",
    "test_data_tag = []\n",
    "\n",
    "for i in os.scandir(os.path.join(path, \"Testing\")):\n",
    "    if i.is_dir():\n",
    "        for j in os.scandir(i.path):\n",
    "            if j.is_file():\n",
    "                temp = np.ravel(cv2.imread(j.path, 0))\n",
    "                test_data_t.append(temp)\n",
    "                sm = np.sum(temp) / temp.size\n",
    "                for k in range(temp.size):\n",
    "                    temp[k] -= sm\n",
    "                test_data.append(temp)\n",
    "                test_data_tag.append(i.name)\n",
    "\n",
    "test_data = np.array(test_data).T\n",
    "test_data_t = np.array(test_data_t).T\n",
    "\n",
    "projected_test_faces = np.matmul(eig_vec.T, test_data_t)\n",
    "\n",
    "# calculating surrogate covariance\n",
    "surrogate_cov = np.cov(data.T)"
   ]
  },
  {
   "cell_type": "markdown",
   "metadata": {},
   "source": [
    "## Results"
   ]
  },
  {
   "cell_type": "markdown",
   "metadata": {},
   "source": [
    "The results showed that LDA is much better than PCA in overall image with various disturbances. While in time taken evaluation, PCA is faster than LDA."
   ]
  },
  {
   "cell_type": "code",
   "execution_count": 8,
   "metadata": {},
   "outputs": [
    {
     "data": {
      "image/png": "[encoded data removed]",
      "text/plain": [
       "<Figure size 432x288 with 1 Axes>"
      ]
     },
     "metadata": {
      "needs_background": "light"
     },
     "output_type": "display_data"
    }
   ],
   "source": [
    "K = []\n",
    "acc1 = []\n",
    "acc2 = []\n",
    "acc3 = []\n",
    "for k in range(1, 10):\n",
    "  K.append(k)\n",
    "\n",
    "  accuracy = PCA(k)\n",
    "  acc1.append(accuracy)\n",
    "\n",
    "  accuracy = LDA(k)\n",
    "  acc2.append(accuracy[0])\n",
    "\n",
    "  acc3.append(accuracy[1])\n",
    "\n",
    "plt.plot(K, acc1, label='PCA')\n",
    "plt.plot(K, acc2, label='LDA_Euclidean')\n",
    "plt.plot(K, acc3, label='LDA_Mahalanobis')\n",
    "plt.ylabel('accuracy')\n",
    "plt.xlabel('k')\n",
    "plt.legend()\n",
    "plt.show()"
   ]
  },
  {
   "cell_type": "code",
   "execution_count": null,
   "metadata": {},
   "outputs": [],
   "source": []
  }
 ],
 "metadata": {
  "kernelspec": {
   "display_name": "Python 3",
   "language": "python",
   "name": "python3"
  },
  "language_info": {
   "codemirror_mode": {
    "name": "ipython",
    "version": 3
   },
   "file_extension": ".py",
   "mimetype": "text/x-python",
   "name": "python",
   "nbconvert_exporter": "python",
   "pygments_lexer": "ipython3",
   "version": "3.8.5"
  }
 },
 "nbformat": 4,
 "nbformat_minor": 4
}
