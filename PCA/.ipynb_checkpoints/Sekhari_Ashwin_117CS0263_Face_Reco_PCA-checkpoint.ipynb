{
 "cells": [
  {
   "cell_type": "markdown",
   "metadata": {},
   "source": [
    "# Face Recognition using Principal Component Analysis"
   ]
  },
  {
   "cell_type": "markdown",
   "metadata": {},
   "source": [
    "Name: **Ashwin Sekhari** &nbsp; &nbsp; &nbsp; &nbsp; &nbsp; &nbsp; &nbsp; &nbsp; Roll Number: **117CS0263**"
   ]
  },
  {
   "cell_type": "markdown",
   "metadata": {},
   "source": [
    "We intend to perform face recognition. Face recognition means that for a\n",
    "given image you can tell the subject id. For our implmentation we will make use of the following 2 datasets:"
   ]
  },
  {
   "cell_type": "markdown",
   "metadata": {},
   "source": [
    "1) https://git-disl.github.io/GTDLBench/datasets/att_face_dataset/\n",
    "\n",
    "2) http://cvit.iiit.ac.in/projects/IMFDB/"
   ]
  },
  {
   "cell_type": "markdown",
   "metadata": {},
   "source": [
    "## Libraries"
   ]
  },
  {
   "cell_type": "code",
   "execution_count": 1,
   "metadata": {},
   "outputs": [],
   "source": [
    "#Importing the required libraries to use later\n",
    "import matplotlib.image as img\n",
    "from numpy import linalg as LA\n",
    "from scipy.spatial import distance\n",
    "import matplotlib.pyplot as plt\n",
    "from pathlib import Path\n",
    "import numpy as np\n",
    "\n",
    "import math\n",
    "import pickle\n",
    "import operator\n",
    "import os\n",
    "\n",
    "#For debug\n",
    "import logging\n",
    "import sys\n",
    "logging.basicConfig(format='%(levelname)s:%(message)s', level=logging.DEBUG, stream=sys.stdout)\n",
    "\n",
    "#Comment this to enable logging\n",
    "logging.disable()"
   ]
  },
  {
   "cell_type": "markdown",
   "metadata": {},
   "source": [
    "We will not use any external libraries for this assignment and we will build PCA from scratch using the basic libraries. The following helper functions are used to aciheve our self sufficent goal."
   ]
  },
  {
   "cell_type": "markdown",
   "metadata": {},
   "source": [
    "## Helper functions"
   ]
  },
  {
   "cell_type": "code",
   "execution_count": 2,
   "metadata": {},
   "outputs": [],
   "source": [
    "#Helper function to help us in classification tasks\n",
    "def Test(data_mat0, data_mat1, label_mat0, label_mat1):\n",
    "    '''\n",
    "        This function expects omega i.e projected test face and Phi i.e Signature of each face\n",
    "        and it then returns the accuracy of classfication for the test data.\n",
    "    '''\n",
    "    length = data_mat0.shape[0]\n",
    "    map_ = np.zeros((1, length))\n",
    "    \n",
    "    #To store predicted labels for the testting data\n",
    "    label_mat_new = np.zeros((1, length))\n",
    "    \n",
    "    #To store accuracy for the testing data\n",
    "    accuracy_mat = np.ones((1, length))\n",
    "\n",
    "    for i in range(0, length):\n",
    "        for j in range(0, length):\n",
    "            #Calculating eucledian distance between projected test data and signature of each face \n",
    "            map_[0, j] = distance.euclidean(data_mat1[i], data_mat0[j])\n",
    "            \n",
    "        #Assiging the label corresponding to the minimum distance \n",
    "        arg = map_.argmin()\n",
    "        label_mat_new[0, i] = label_mat0[arg]\n",
    "        if label_mat_new[0, i] != label_mat1[i]:\n",
    "            #If predicted label and actual label don't match then it is not accurate and insert 0\n",
    "            accuracy_mat[0, i] = 0\n",
    "    return 100 * np.sum(accuracy_mat) / np.size(accuracy_mat)\n"
   ]
  },
  {
   "cell_type": "code",
   "execution_count": 3,
   "metadata": {},
   "outputs": [],
   "source": [
    "def Train(data_matrix, k, str2):\n",
    "    '''\n",
    "        The function expects training data and a value k (number of selected feature vectors).\n",
    "        This function performs all the required training steps.\n",
    "    '''\n",
    "    logging.debug(' Inside Train')\n",
    "    isAlpha = False\n",
    "    number = 0\n",
    "    \n",
    "    # Generating mean-zero delta (dimensions: mn*p)\n",
    "    data_matrix_centered = data_matrix - np.mean(data_matrix, axis=0)\n",
    "    logging.debug(' Generated Mean Zero')\n",
    "    \n",
    "    #Generating covariance of mean-zero delta (dimension: p*p)\n",
    "    data_matrix_cov = np.cov(data_matrix_centered, rowvar=False)\n",
    "    \n",
    "    logging.debug(' Done with convariance')\n",
    "    \n",
    "    #Extracting EigenValue and EigenVector\n",
    "    (eigenValues, eigenVectors) = LA.eigh(data_matrix_cov)\n",
    "    idx = eigenValues.argsort()[::-1]\n",
    "    eigenValues = eigenValues[idx]\n",
    "    eigenVectors = eigenVectors[:, idx]\n",
    "    total = np.sum(eigenValues)\n",
    "\n",
    "    logging.debug(' Extracting directions')\n",
    "    #Extracting best direction and k value i.e getting a feature vector having dimnesion: p*k\n",
    "    while isAlpha == False:\n",
    "        sum_eigVal = 0.0\n",
    "        for i in range(eigenValues.size):\n",
    "            sum_eigVal = sum_eigVal + eigenValues[i] / total\n",
    "            number += 1\n",
    "            if math.isclose(sum_eigVal, k) or sum_eigVal > k:\n",
    "                isAlpha = True\n",
    "                break\n",
    "    \n",
    "    logging.debug(' Projection Matrix')\n",
    "    #projection matrix containing Eigen faces of dimension: k*mn           \n",
    "    projection_matrix = np.matrix([eigenVectors[n] for n in\n",
    "                                  range(number)]).T\n",
    "\n",
    "    logging.debug(' Saving objects....')\n",
    "    #Saving the objects for future use in cache to save time during re-runs.\n",
    "    if not Path(str2 + '.pickle').exists():\n",
    "        with open(str2 + '.pickle', 'wb') as handle:\n",
    "            pickle.dump(projection_matrix, handle,\n",
    "                        protocol=pickle.HIGHEST_PROTOCOL)\n",
    "    else:\n",
    "        logging.warning(' '+str2+' Another file with same name already found.')\n",
    "    return projection_matrix\n"
   ]
  },
  {
   "cell_type": "code",
   "execution_count": 4,
   "metadata": {},
   "outputs": [],
   "source": [
    "def PCA(data_matrix, proj_matrix, k, str2):\n",
    "    \n",
    "    '''\n",
    "    This generates Projection matrix the returned matrices\n",
    "    have dimensions as k*1\n",
    "    '''\n",
    "    data_matrix_centered = data_matrix - np.mean(data_matrix, axis=0)\n",
    "    if proj_matrix is None:\n",
    "        #Call the train fucntion if no proj matrix exists\n",
    "        logging.debug(' Before Train')\n",
    "        projection_matrix = Train(data_matrix, k, str2)\n",
    "        logging.debug(' After Train')\n",
    "    else:\n",
    "        projection_matrix = proj_matrix\n",
    "        \n",
    "    #Convert to eigen faces\n",
    "    rd_data_matrix = np.matmul(data_matrix_centered, projection_matrix)\n",
    "    return rd_data_matrix"
   ]
  },
  {
   "cell_type": "markdown",
   "metadata": {},
   "source": [
    "## Generating the Data Matrix and their Labels"
   ]
  },
  {
   "cell_type": "code",
   "execution_count": 5,
   "metadata": {},
   "outputs": [],
   "source": [
    "#Reading the images and storing them while maining the label structure\n",
    "imgMat = np.zeros((0, 10304))\n",
    "temp = np.arange(1, 41, 1) #We have 40 people\n",
    "\n",
    "label_matrix = np.array([[temp[i]] * 10 for i in range(temp.size)])\n",
    "label_matrix = label_matrix.flatten()\n",
    "\n",
    "#Reading greyscale images form the ATT dataset\n",
    "folder = 'ATT/'\n",
    "for j in range(1, 41):\n",
    "    direction = folder + 's' + str(j) + '/'\n",
    "    for i in range(1, 11):\n",
    "        directory = direction + str(i) + '.pgm'\n",
    "        image = img.imread(directory).T\n",
    "        imageVect = np.asmatrix(image.flatten())\n",
    "        imgMat = np.concatenate((imgMat, imageVect))"
   ]
  },
  {
   "cell_type": "markdown",
   "metadata": {},
   "source": [
    "## Spliting the Dataset into Training and Test sets "
   ]
  },
  {
   "cell_type": "code",
   "execution_count": 6,
   "metadata": {},
   "outputs": [],
   "source": [
    "test_data_matrix = imgMat[0:400:2]\n",
    "training_data_matrix = imgMat[1:400:2]\n",
    "\n",
    "label_test = label_matrix[0:400:2]\n",
    "label_training = label_matrix[1:400:2]"
   ]
  },
  {
   "cell_type": "markdown",
   "metadata": {},
   "source": [
    "## Results"
   ]
  },
  {
   "cell_type": "code",
   "execution_count": 7,
   "metadata": {
    "scrolled": false
   },
   "outputs": [
    {
     "name": "stdout",
     "output_type": "stream",
     "text": [
      "K: 0.8 Accuracy = 71.5%\n",
      "\n",
      "K: 0.81 Accuracy = 72.5%\n",
      "\n",
      "K: 0.82 Accuracy = 70.5%\n",
      "\n",
      "K: 0.83 Accuracy = 71.5%\n",
      "\n",
      "K: 0.84 Accuracy = 75.5%\n",
      "\n",
      "K: 0.85 Accuracy = 77.0%\n",
      "\n",
      "K: 0.9 Accuracy = 83.0%\n",
      "\n",
      "K: 0.91 Accuracy = 84.5%\n",
      "\n",
      "K: 0.93 Accuracy = 88.0%\n",
      "\n",
      "K: 0.95 Accuracy = 89.5%\n",
      "\n",
      "K: 0.98 Accuracy = 90.5%\n",
      "\n",
      "K: 0.99 Accuracy = 93.0%\n",
      "\n"
     ]
    },
    {
     "data": {
      "image/png": "[encoded data removed]",
      "text/plain": [
       "<Figure size 432x288 with 1 Axes>"
      ]
     },
     "metadata": {
      "needs_background": "light"
     },
     "output_type": "display_data"
    }
   ],
   "source": [
    "#Different k values to try\n",
    "k_vals = [0.8, 0.81, 0.82, 0.83, 0.84, 0.85, 0.9, 0.91, 0.93, 0.95, 0.98, 0.99]\n",
    "\n",
    "logging.debug(k_vals)\n",
    "k = np.matrix([k_vals])\n",
    "\n",
    "acc_vals = []\n",
    "for o in range(k.size):\n",
    "    #Running a loop and checking it for all k values\n",
    "    logging.debug(' K value ' +str(k[0,o]))\n",
    "    proj_data_mat = None\n",
    "    try:\n",
    "        #Cached files to save time\n",
    "        with open('proj_data_mat_' + str(k[0, o]) + '.pickle', 'rb') as handle:\n",
    "            proj_data_mat = pickle.load(handle)\n",
    "    except:\n",
    "        pass\n",
    "    try:\n",
    "        training_data_matrix_rd = PCA(training_data_matrix, proj_data_mat,k[0, o], 'proj_data_mat_' + str(k[0, o]))\n",
    "        logging.debug(' Done with training_data_matrix_rd')\n",
    "        \n",
    "        #Getting Eigen faces\n",
    "        test_data_matrix_rd = PCA(test_data_matrix, proj_data_mat, k[0, o], 'proj_data_mat_' + str(k[0, o]))\n",
    "        \n",
    "        #getting and storing accuracy by testing data\n",
    "        acc_prc = Test(training_data_matrix_rd, test_data_matrix_rd, label_training, label_test)\n",
    "        acc_vals.append(acc_prc)\n",
    "        print ('K: '+ str(k[0, o]) + ' Accuracy = ' + str(acc_prc) + '%\\n')\n",
    "    except:\n",
    "        pass\n",
    "\n",
    "logging.debug(acc_vals)\n",
    "fig = plt.figure()\n",
    "plt.plot(k_vals, acc_vals)\n",
    "fig.suptitle('Accuracy vs K')\n",
    "plt.xlabel('K Values')\n",
    "plt.ylabel('Accuracy in %')\n",
    "plt.show()"
   ]
  }
 ],
 "metadata": {
  "kernelspec": {
   "display_name": "Python 3",
   "language": "python",
   "name": "python3"
  },
  "language_info": {
   "codemirror_mode": {
    "name": "ipython",
    "version": 3
   },
   "file_extension": ".py",
   "mimetype": "text/x-python",
   "name": "python",
   "nbconvert_exporter": "python",
   "pygments_lexer": "ipython3",
   "version": "3.8.5"
  }
 },
 "nbformat": 4,
 "nbformat_minor": 2
}
