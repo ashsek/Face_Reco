{
 "cells": [
  {
   "cell_type": "markdown",
   "metadata": {},
   "source": [
    "# Facial Recognition using Artificial Neural Network"
   ]
  },
  {
   "cell_type": "markdown",
   "metadata": {},
   "source": [
    "Name: **Ashwin Sekhari** &nbsp; &nbsp; &nbsp; &nbsp; &nbsp; &nbsp; &nbsp; &nbsp; &nbsp; &nbsp; Roll Number: **117CS0263**"
   ]
  },
  {
   "cell_type": "markdown",
   "metadata": {},
   "source": [
    "In order to apply ANN on face, we have to first extract unique features from face data, these unique features can be extracted based on the geometrical property of faces (face structure: like distance between eyes and nose , nose and lips etc) or based on the images we have (intensity values). For our implementation we will extract 100 features and work with them. "
   ]
  },
  {
   "cell_type": "markdown",
   "metadata": {},
   "source": [
    "The architecture consists of 3 layers, 1 input, 1 output and 1 hidden layer."
   ]
  },
  {
   "cell_type": "markdown",
   "metadata": {},
   "source": [
    "## Including libraries"
   ]
  },
  {
   "cell_type": "code",
   "execution_count": 1,
   "metadata": {},
   "outputs": [],
   "source": [
    "import numpy as np\n",
    "from PIL import Image\n",
    "import matplotlib.pyplot as plt\n",
    "import matplotlib.image as mpimg\n",
    "import cv2"
   ]
  },
  {
   "cell_type": "markdown",
   "metadata": {},
   "source": [
    "## Helper Functions"
   ]
  },
  {
   "cell_type": "code",
   "execution_count": 2,
   "metadata": {},
   "outputs": [],
   "source": [
    "def create_feature_vec(num_train) :  \n",
    "    \"\"\"\n",
    "    \n",
    "    Creating feature vector for images from training dataset.    \n",
    "    \n",
    "    \"\"\"   \n",
    "    feature_vector = []\n",
    "    \n",
    "    #Extracting features\n",
    "    for i in range(1, 41) :\n",
    "        folder_path = base_path + 's' + str(i) + '/'\n",
    "        for j in range(1, num_train + 1) :\n",
    "            img_path = folder_path + str(j) + '.pgm'\n",
    "            im = Image.open(img_path)\n",
    "            pix = im.load()\n",
    "\n",
    "            img_row = []\n",
    "            for x in range(lenx) :\n",
    "                for y in range(leny) :\n",
    "                    img_row.append(pix[x, y])\n",
    "            #feature vector \n",
    "            feature_vector.append(img_row)\n",
    "\n",
    "    feature_vector = np.array(feature_vector)\n",
    "    feature_vector_T = np.transpose(feature_vector)\n",
    "    return feature_vector\n",
    "\n",
    "def create_eig_val_vec(cov_mat):\n",
    "    \"\"\"\n",
    "        Eigenvvalues and Eigenvectors\n",
    "    \"\"\"\n",
    "    eigen_val, eigen_vec = np.linalg.eig(cov_mat)\n",
    "    eigen_val_s = np.sort(eigen_val)\n",
    "    eigen_vec_s = eigen_vec[:, eigen_val.argsort()]\n",
    "    eigen_vec_s = np.fliplr(eigen_vec_s)\n",
    "    eigen_vec = eigen_vec_s\n",
    "    eigen_val = eigen_val_s\n",
    "\n",
    "    return eigen_val, eigen_vec"
   ]
  },
  {
   "cell_type": "code",
   "execution_count": 3,
   "metadata": {},
   "outputs": [],
   "source": [
    "def create_test_matrix(num_train) :\n",
    "    \"\"\"\n",
    "        Create the test matrix by reading the data from 'att_faces' base folder\n",
    "    \"\"\"\n",
    "    test_mat = []\n",
    "    for i in range(1, 41) : # for each folder\n",
    "        folder_path = base_path + 's' + str(i) + '/'\n",
    "        for j in range(num_train + 1, 11) :\n",
    "\n",
    "            img_path = folder_path + str(j) + '.pgm'\n",
    "            im = Image.open(img_path)\n",
    "            pix = im.load()\n",
    "\n",
    "            img_row = []\n",
    "            for x in range(lenx) :\n",
    "                for y in range(leny) :\n",
    "                    img_row.append(pix[x, y])\n",
    "\n",
    "            test_mat.append(img_row)\n",
    "\n",
    "    test_mat = np.array(test_mat)\n",
    "    print(\"Test matrix = \", test_mat)\n",
    "    print(\"Shape of test matrix = \", test_mat.shape)\n",
    "    print(\"\\n\")\n",
    "    return test_mat  \n",
    "\n",
    "def create_mean_zero_test(test_mat, mean) :\n",
    "    \"\"\"\n",
    "        Mean zero values for the test matrix\n",
    "    \"\"\"\n",
    "    dev_test_mat = test_mat - mean\n",
    "    dev_test_mat_T = np.transpose(dev_test_mat)\n",
    "    return dev_test_mat, dev_test_mat_T\n",
    "\n",
    "def get_actual_values(num_test) :\n",
    "    \"\"\"\n",
    "        Actual values for verification process\n",
    "    \"\"\"\n",
    "    actual_vec = list(range(40))\n",
    "    actual_vec = np.array([ele for ele in actual_vec for i in range(num_test)])\n",
    "    print(\"\\nActual expected values\\n\")\n",
    "    print(actual_vec)\n",
    "    print(\"\\nShape of actual output = {}\\n\".format(actual_vec.shape))\n",
    "    return actual_vec\n",
    "\n",
    "def accuracy(prediction, y):\n",
    "    \"\"\"\n",
    "        Helps in finding the accuracy, takes input as prediction and actual values\n",
    "    \"\"\"\n",
    "    count = 0\n",
    "    for i in range((len(y))) :\n",
    "        if prediction[i] == y[i] :\n",
    "            count += 1\n",
    "    return (count / len(y)) * 100"
   ]
  },
  {
   "cell_type": "code",
   "execution_count": 4,
   "metadata": {},
   "outputs": [],
   "source": [
    "def calculate_loss(model):\n",
    "    \"\"\"\n",
    "        Calculating loss incurred because of the model\n",
    "    \"\"\"\n",
    "    # model parameters\n",
    "    W1, b1, W2, b2 = model['W1'], model['b1'], model['W2'], model['b2']\n",
    "    \n",
    "    # Forward propagation to calculate our predictions\n",
    "    z1 = X.dot(W1) + b1\n",
    "    a1 = np.tanh(z1)\n",
    "    z2 = a1.dot(W2) + b2\n",
    "    exp_scores = np.exp(z2)\n",
    "    probs = exp_scores / np.sum(exp_scores, axis=1, keepdims=True)\n",
    "    \n",
    "    # Calculating the loss\n",
    "    corect_logprobs = -np.log(probs[range(num_examples), y])\n",
    "    data_loss = np.sum(corect_logprobs)\n",
    "    \n",
    "    # Add regulatization term to loss (optio\n",
    "    data_loss += reg_lambda/2 * (np.sum(np.square(W1)) + np.sum(np.square(W2)))\n",
    "    return 1./num_examples * data_loss\n",
    "\n",
    "def predict(model, x):\n",
    "    \"\"\"\n",
    "        Helper function to predict the labels\n",
    "    \"\"\"\n",
    "    # model parameters\n",
    "    W1, b1, W2, b2 = model['W1'], model['b1'], model['W2'], model['b2']\n",
    "    \n",
    "    # Forward propagation\n",
    "    z1 = x.dot(W1) + b1\n",
    "    a1 = np.tanh(z1)\n",
    "    \n",
    "    #a1 = np.exp(z1) / 1 + np.exp(z1)\n",
    "    z2 = a1.dot(W2) + b2\n",
    "    exp_scores = np.exp(z2)\n",
    "    probs = exp_scores / np.sum(exp_scores, axis=1, keepdims=True)\n",
    "    return np.argmax(probs, axis=1)\n",
    "\n",
    "def build_model(nn_hdim, epochs=22000, print_loss=False):\n",
    "    \"\"\"\n",
    "        Builds the model\n",
    "    \"\"\"\n",
    "    # Initialize the parameters to random values. We need to learn these.\n",
    "    np.random.seed(0)\n",
    "    W1 = np.random.randn(nn_input_dim, nn_hdim) / np.sqrt(nn_input_dim)\n",
    "    b1 = np.zeros((1, nn_hdim))\n",
    "    W2 = np.random.randn(nn_hdim, nn_output_dim) / np.sqrt(nn_hdim)\n",
    "    b2 = np.zeros((1, nn_output_dim))\n",
    "\n",
    "    # This is what we return at the end\n",
    "    model = {}\n",
    "    \n",
    "    # Gradient descent. For each batch...\n",
    "    for i in range(0, epochs):\n",
    "\n",
    "        # Forward propagation\n",
    "        z1 = X.dot(W1) + b1\n",
    "        a1 = np.tanh(z1)\n",
    "        z2 = a1.dot(W2) + b2\n",
    "        exp_scores = np.exp(z2)\n",
    "        probs = exp_scores / np.sum(exp_scores, axis=1, keepdims=True)\n",
    "\n",
    "        # Backpropagation\n",
    "        delta3 = probs\n",
    "        delta3[range(num_examples), y] -= 1\n",
    "        dW2 = (a1.T).dot(delta3)\n",
    "        db2 = np.sum(delta3, axis=0, keepdims=True)\n",
    "        delta2 = delta3.dot(W2.T) * (1 - np.power(a1, 2))\n",
    "        dW1 = np.dot(X.T, delta2)\n",
    "        db1 = np.sum(delta2, axis=0)\n",
    "\n",
    "        # Add regularization terms (b1 and b2 don't have regularization terms)\n",
    "        dW2 += reg_lambda * W2\n",
    "        dW1 += reg_lambda * W1\n",
    "\n",
    "        # Gradient descent parameter update\n",
    "        W1 += -epsilon * dW1\n",
    "        b1 += -epsilon * db1\n",
    "        W2 += -epsilon * dW2\n",
    "        b2 += -epsilon * db2\n",
    "        \n",
    "        # Assign new parameters to the model\n",
    "        model = { 'W1': W1, 'b1': b1, 'W2': W2, 'b2': b2}\n",
    "        \n",
    "        if print_loss and i % 5000 == 0:\n",
    "            loss = calculate_loss(model)\n",
    "    \n",
    "    return model"
   ]
  },
  {
   "cell_type": "markdown",
   "metadata": {},
   "source": [
    "## Main\n"
   ]
  },
  {
   "cell_type": "code",
   "execution_count": 5,
   "metadata": {},
   "outputs": [],
   "source": [
    "base_path = 'att_faces/'\n",
    "img=cv2.imread(base_path + 's1/1.pgm')\n",
    "leny, lenx, z = img.shape\n",
    "\n",
    "k = 100 # number of features to be taken from PCA\n",
    "\n",
    "# number of images in training and test classes\n",
    "num_train = 6\n",
    "num_test = 10 - num_train\n",
    "\n",
    "C = 40 # number of classes/folders\n",
    "\n",
    "#Feature vector\n",
    "feature_vec = create_feature_vec(num_train)"
   ]
  },
  {
   "cell_type": "code",
   "execution_count": 6,
   "metadata": {},
   "outputs": [],
   "source": [
    "#Mean, deviation and covariance matrices \n",
    "mean_vec = np.mean(feature_vec, axis = 0)\n",
    "dev_mat = feature_vec - mean_vec\n",
    "cov_mat = np.dot(dev_mat, dev_mat.T)\n",
    "\n",
    "#Eigen values and vectors\n",
    "eigen_val, eigen_vec = create_eig_val_vec(cov_mat)"
   ]
  },
  {
   "cell_type": "code",
   "execution_count": 7,
   "metadata": {},
   "outputs": [
    {
     "name": "stdout",
     "output_type": "stream",
     "text": [
      "Test matrix =  [[ 41  44  48 ...  35  33  38]\n",
      " [ 44  44  41 ...  37  32  37]\n",
      " [ 42  41  54 ...  40  39  41]\n",
      " ...\n",
      " [125 121 122 ...  43  35  40]\n",
      " [119 118 120 ...  88  92  85]\n",
      " [125 124 121 ...  35  32  34]]\n",
      "Shape of test matrix =  (160, 10304)\n",
      "\n",
      "\n"
     ]
    }
   ],
   "source": [
    "#Direction feature vectors\n",
    "dec_feature_vec = eigen_vec[:, :k] #Selecting best k directions\n",
    "eig_face = np.dot(np.transpose(dec_feature_vec), dev_mat) #eigen faces\n",
    "sig_face = np.dot(eig_face, dev_mat.T) #Signing eigen faces\n",
    "sig_face = sig_face.T\n",
    "\n",
    "#Creating test matrix for testing purposes\n",
    "test_mat = create_test_matrix(num_train)"
   ]
  },
  {
   "cell_type": "code",
   "execution_count": 8,
   "metadata": {},
   "outputs": [],
   "source": [
    "#Deviation test matrix\n",
    "dev_test_mat, dev_test_mat_T = create_mean_zero_test(test_mat, mean_vec)\n",
    "\n",
    "#Projected test faces\n",
    "proj_test_face = np.dot(eig_face, dev_test_mat_T)\n",
    "\n",
    "#Input and output for training and building the model\n",
    "X = sig_face\n",
    "y = list(range(C))\n",
    "y = np.array([ele for ele in y for i in range(num_train)])\n",
    "\n",
    "#Some constants\n",
    "num_examples = len(X) # training set size\n",
    "nn_input_dim = k # input dimension\n",
    "nn_output_dim = C # output dimension\n",
    "\n",
    "epsilon = 0.03 # learning rate for gradient descent\n",
    "reg_lambda = 0.01 # regularization strength"
   ]
  },
  {
   "cell_type": "code",
   "execution_count": 9,
   "metadata": {},
   "outputs": [
    {
     "name": "stdout",
     "output_type": "stream",
     "text": [
      "\n",
      "Actual expected values\n",
      "\n",
      "[ 0  0  0  0  1  1  1  1  2  2  2  2  3  3  3  3  4  4  4  4  5  5  5  5\n",
      "  6  6  6  6  7  7  7  7  8  8  8  8  9  9  9  9 10 10 10 10 11 11 11 11\n",
      " 12 12 12 12 13 13 13 13 14 14 14 14 15 15 15 15 16 16 16 16 17 17 17 17\n",
      " 18 18 18 18 19 19 19 19 20 20 20 20 21 21 21 21 22 22 22 22 23 23 23 23\n",
      " 24 24 24 24 25 25 25 25 26 26 26 26 27 27 27 27 28 28 28 28 29 29 29 29\n",
      " 30 30 30 30 31 31 31 31 32 32 32 32 33 33 33 33 34 34 34 34 35 35 35 35\n",
      " 36 36 36 36 37 37 37 37 38 38 38 38 39 39 39 39]\n",
      "\n",
      "Shape of actual output = (160,)\n",
      "\n"
     ]
    }
   ],
   "source": [
    "#Acctual output values\n",
    "actual_vec = get_actual_values(num_test)"
   ]
  },
  {
   "cell_type": "markdown",
   "metadata": {},
   "source": [
    "## Testing"
   ]
  },
  {
   "cell_type": "code",
   "execution_count": 10,
   "metadata": {},
   "outputs": [],
   "source": [
    "hidden_layer_dimensions = [1, 5, 10, 15, 20, 25, 30, 35, 40, 45 , 50]\n",
    "acc_val = []\n",
    "for i, nn_hdim in enumerate(hidden_layer_dimensions):\n",
    "    model = build_model(nn_hdim, print_loss=True)\n",
    "    prediction = predict(model, proj_test_face.T)\n",
    "    acc = accuracy(prediction, actual_vec)\n",
    "    acc_val.append(acc)"
   ]
  },
  {
   "cell_type": "markdown",
   "metadata": {},
   "source": [
    "## Accuracy vs nodes in hidden layer"
   ]
  },
  {
   "cell_type": "code",
   "execution_count": 11,
   "metadata": {},
   "outputs": [
    {
     "data": {
      "image/png": "[encoded data removed]",
      "text/plain": [
       "<Figure size 432x288 with 1 Axes>"
      ]
     },
     "metadata": {
      "needs_background": "light"
     },
     "output_type": "display_data"
    }
   ],
   "source": [
    "plt.plot(hidden_layer_dimensions, acc_val, color = \"Red\")\n",
    "plt.xlabel('Nodes')\n",
    "plt.ylabel('Accuracy')\n",
    "plt.yticks(np.arange(0, 100, 10.0))\n",
    "plt.show()"
   ]
  }
 ],
 "metadata": {
  "kernelspec": {
   "display_name": "Python 3",
   "language": "python",
   "name": "python3"
  },
  "language_info": {
   "codemirror_mode": {
    "name": "ipython",
    "version": 3
   },
   "file_extension": ".py",
   "mimetype": "text/x-python",
   "name": "python",
   "nbconvert_exporter": "python",
   "pygments_lexer": "ipython3",
   "version": "3.8.5"
  }
 },
 "nbformat": 4,
 "nbformat_minor": 4
}
